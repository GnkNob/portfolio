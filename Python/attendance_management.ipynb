{
 "cells": [
  {
   "cell_type": "markdown",
   "id": "30d5c9d1-f492-4349-9f39-f9f14f1d3576",
   "metadata": {},
   "source": [
    "### 勤怠管理プログラム\n",
    "1. tkinterのウィンドウを表示\n",
    "2. 「勤務開始」ボタンを押すと、Slackに「名前、時刻、勤務開始します」と送信\n",
    "3. 同時に、エクセルの勤怠管理.xlsxにもA列に「年月日」B列に「出勤時刻」を入力\n",
    "4. 「勤務終了」ボタンを押すと、Slackに同様にメッセージ(勤務終了します)と送信\n",
    "5. エクセルのC列に退勤時刻を入力"
   ]
  },
  {
   "cell_type": "markdown",
   "id": "a179a76f-c710-4376-9756-aab4a6775d15",
   "metadata": {},
   "source": [
    "secretにslackのwebhook urlを転記"
   ]
  },
  {
   "cell_type": "code",
   "execution_count": 7,
   "id": "d585869c-9d10-4648-a00b-e9c878f8ea2b",
   "metadata": {
    "tags": []
   },
   "outputs": [],
   "source": [
    "import tkinter as tk\n",
    "import openpyxl\n",
    "from datetime import datetime, timedelta\n",
    "\n",
    "import slackweb\n",
    "\n",
    "import secret\n",
    "\n",
    "slack = slackweb.Slack(url=secret.webhook_url)\n",
    "\n",
    "class Appliction(tk.Frame):\n",
    "    def __init__(self, master=None):\n",
    "        super().__init__(master)\n",
    "        \n",
    "        self.master.geometry(\"300x200\")\n",
    "        self.master.title(\"勤怠管理アプリ\")\n",
    "        self.master.resizable(0, 0)\n",
    "        self.master.attributes(\"-topmost\", True)\n",
    "        \n",
    "        button_start = tk.Button(self.master, text=\"勤務開始\", width=8, command=self.work_start_function)\n",
    "        button_finish = tk.Button(self.master, text=\"勤務終了\", width=8, command=self.work_fin_function)\n",
    "        \n",
    "        button_start.pack(pady=40)\n",
    "        button_finish.pack(pady=20)\n",
    "        \n",
    "        \n",
    "    def work_start_function(self):\n",
    "        now = datetime.now()\n",
    "# 年月日\n",
    "        ymd = now.strftime(\"%Y/%m/%d\")\n",
    "# 時刻(時、分)\n",
    "        hm = now.strftime(\"%H:%M\")\n",
    "        wb = openpyxl.load_workbook(\"勤怠管理.xlsx\")\n",
    "        ws = wb[\"入力シート\"]\n",
    "        \n",
    "        r = ws.max_row + 1\n",
    "        ws.cell(row=r, column=1).value = ymd\n",
    "        ws.cell(row=r, column=2).value = hm\n",
    "        # print(ymd, hm)\n",
    "        \n",
    "        \n",
    "        slack.notify(text=f\"テスト課題 {hm} 勤務開始します\")\n",
    "        \n",
    "        wb.save(\"勤怠管理.xlsx\")\n",
    "        \n",
    "        print(\"勤務開始処理完了しました\")        \n",
    "    \n",
    "    def work_fin_function(self):\n",
    "        now = datetime.now()\n",
    "        \n",
    "        debug_hour = now + timedelta(hours=8)\n",
    "        \n",
    "        hm = debug_hour.strftime(\"%H:%M\")\n",
    "        wb = openpyxl.load_workbook(\"勤怠管理.xlsx\")\n",
    "        ws = wb[\"入力シート\"]\n",
    "        \n",
    "        r = ws.max_row\n",
    "        ws.cell(row=r, column=3).value = hm\n",
    "        # print(hm)\n",
    "        \n",
    "        slack.notify(text=f\"テスト課題 {hm} 勤務終了します\")\n",
    "        \n",
    "        wb.save(\"勤怠管理.xlsx\")\n",
    "        \n",
    "        print(\"勤務終了処理完了しました\")"
   ]
  },
  {
   "cell_type": "code",
   "execution_count": 69,
   "id": "e8829ba4-dce7-4c47-a141-65e8e87334f6",
   "metadata": {
    "tags": []
   },
   "outputs": [
    {
     "name": "stdout",
     "output_type": "stream",
     "text": [
      "勤務開始処理完了しました\n",
      "勤務終了処理完了しました\n"
     ]
    }
   ],
   "source": [
    "if __name__ == \"__main__\":\n",
    "    root = tk.Tk()\n",
    "    app = Appliction(master=root)\n",
    "    app.mainloop()"
   ]
  },
  {
   "cell_type": "code",
   "execution_count": null,
   "id": "91215442-8f74-4dab-9661-add64b447913",
   "metadata": {},
   "outputs": [],
   "source": []
  }
 ],
 "metadata": {
  "kernelspec": {
   "display_name": "Python 3 (ipykernel)",
   "language": "python",
   "name": "python3"
  },
  "language_info": {
   "codemirror_mode": {
    "name": "ipython",
    "version": 3
   },
   "file_extension": ".py",
   "mimetype": "text/x-python",
   "name": "python",
   "nbconvert_exporter": "python",
   "pygments_lexer": "ipython3",
   "version": "3.9.18"
  }
 },
 "nbformat": 4,
 "nbformat_minor": 5
}
